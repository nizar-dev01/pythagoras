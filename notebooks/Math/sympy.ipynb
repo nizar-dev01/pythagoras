{
 "cells": [
  {
   "cell_type": "code",
   "execution_count": 12,
   "id": "f9bf7982-d1de-424f-b075-0bc005cb0f13",
   "metadata": {},
   "outputs": [],
   "source": [
    "import sympy as sym\n",
    "from IPython.display import display, Math"
   ]
  },
  {
   "cell_type": "code",
   "execution_count": 2,
   "id": "691c5c73-30a4-4f2c-907e-2e404c693b9e",
   "metadata": {},
   "outputs": [],
   "source": [
    "x = sym.symbols('x')"
   ]
  },
  {
   "cell_type": "code",
   "execution_count": 8,
   "id": "0b11757d-ea8e-4047-aae7-c3765d9294ba",
   "metadata": {},
   "outputs": [],
   "source": [
    "eq = 2 * x - 3 + x - 2"
   ]
  },
  {
   "cell_type": "code",
   "execution_count": 9,
   "id": "7b5e741a-1a27-46dd-8982-929b8ea760b8",
   "metadata": {},
   "outputs": [
    {
     "data": {
      "text/plain": [
       "[5/3]"
      ]
     },
     "execution_count": 9,
     "metadata": {},
     "output_type": "execute_result"
    }
   ],
   "source": [
    "sym.solve(eq)"
   ]
  },
  {
   "cell_type": "code",
   "execution_count": 14,
   "id": "c6e8f685-63c3-4d8d-b54e-54395824c4b6",
   "metadata": {},
   "outputs": [
    {
     "data": {
      "text/latex": [
       "$\\displaystyle x$"
      ],
      "text/plain": [
       "x"
      ]
     },
     "execution_count": 14,
     "metadata": {},
     "output_type": "execute_result"
    }
   ],
   "source": []
  }
 ],
 "metadata": {
  "kernelspec": {
   "display_name": "Python 3 (ipykernel)",
   "language": "python",
   "name": "python3"
  },
  "language_info": {
   "codemirror_mode": {
    "name": "ipython",
    "version": 3
   },
   "file_extension": ".py",
   "mimetype": "text/x-python",
   "name": "python",
   "nbconvert_exporter": "python",
   "pygments_lexer": "ipython3",
   "version": "3.11.7"
  }
 },
 "nbformat": 4,
 "nbformat_minor": 5
}
