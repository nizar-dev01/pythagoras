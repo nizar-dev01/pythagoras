{
 "cells": [
  {
   "cell_type": "code",
   "execution_count": 9,
   "id": "b170d71d",
   "metadata": {},
   "outputs": [],
   "source": [
    "from IPython.display import display, Math"
   ]
  },
  {
   "cell_type": "code",
   "execution_count": 20,
   "id": "ced65510",
   "metadata": {},
   "outputs": [
    {
     "data": {
      "text/latex": [
       "$\\displaystyle 3^\\frac{1}{2} \\times10$"
      ],
      "text/plain": [
       "<IPython.core.display.Math object>"
      ]
     },
     "metadata": {},
     "output_type": "display_data"
    }
   ],
   "source": [
    "display(Math(\"3^\\\\frac{1}{2} \\\\times10\"))"
   ]
  },
  {
   "cell_type": "code",
   "execution_count": 3,
   "id": "0510a6df",
   "metadata": {},
   "outputs": [
    {
     "name": "stdin",
     "output_type": "stream",
     "text": [
      "Hello :  Hi\n"
     ]
    },
    {
     "data": {
      "text/plain": [
       "'Hi'"
      ]
     },
     "execution_count": 3,
     "metadata": {},
     "output_type": "execute_result"
    }
   ],
   "source": [
    "input(\"Hello : \")"
   ]
  },
  {
   "cell_type": "code",
   "execution_count": 5,
   "id": "fa7f7dac-caf6-4f87-893b-b015a5331b56",
   "metadata": {},
   "outputs": [],
   "source": [
    "t=type([])"
   ]
  },
  {
   "cell_type": "code",
   "execution_count": 9,
   "id": "8a3ae27e-4a55-41de-ab6c-32a121db9f50",
   "metadata": {},
   "outputs": [],
   "source": [
    "t=str(t)"
   ]
  },
  {
   "cell_type": "code",
   "execution_count": 15,
   "id": "83402e9e-776f-45eb-af1a-824a4c941c75",
   "metadata": {},
   "outputs": [
    {
     "data": {
      "text/plain": [
       "'list'"
      ]
     },
     "execution_count": 15,
     "metadata": {},
     "output_type": "execute_result"
    }
   ],
   "source": [
    "t[8:-2]"
   ]
  }
 ],
 "metadata": {
  "kernelspec": {
   "display_name": "Python 3 (ipykernel)",
   "language": "python",
   "name": "python3"
  },
  "language_info": {
   "codemirror_mode": {
    "name": "ipython",
    "version": 3
   },
   "file_extension": ".py",
   "mimetype": "text/x-python",
   "name": "python",
   "nbconvert_exporter": "python",
   "pygments_lexer": "ipython3",
   "version": "3.11.7"
  }
 },
 "nbformat": 4,
 "nbformat_minor": 5
}
